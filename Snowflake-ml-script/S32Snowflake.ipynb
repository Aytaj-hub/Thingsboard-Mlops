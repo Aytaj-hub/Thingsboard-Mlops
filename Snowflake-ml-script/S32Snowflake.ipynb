{
 "cells": [
  {
   "cell_type": "code",
   "execution_count": 17,
   "id": "32a6ef5a-e256-4b64-ac3d-13226a605a8c",
   "metadata": {},
   "outputs": [],
   "source": [
    "import pandas as pd\n",
    "import json\n",
    "import os\n",
    "import snowflake.snowpark.functions as F\n",
    "from snowflake.ml.utils.connection_params import SnowflakeLoginOptions\n",
    "from snowflake.snowpark import Session"
   ]
  },
  {
   "cell_type": "code",
   "execution_count": 18,
   "id": "9c2fe53f-cca3-4f84-84bb-e85df5753fe0",
   "metadata": {},
   "outputs": [],
   "source": [
    "connection_parameters = {\n",
    "    \"account\": os.getenv(\"SNOWFLAKE_ACCOUNT\"),\n",
    "    \"user\": os.getenv(\"SNOWFLAKE_USER\"),\n",
    "    \"password\": os.getenv(\"SNOWFLAKE_PASSWORD\"),\n",
    "    \"schema\": os.getenv(\"SNOWFLAKE_SCHEMA\"),\n",
    "    \"database\": os.getenv(\"SNOWFLAKE_DATABASE\"),\n",
    "    \"role\": os.getenv(\"SNOWFLAKE_ROLE\"),\n",
    "    \"warehouse\": os.getenv(\"SNOWFLAKE_WAREHOUSE\"),\n",
    "}\n",
    "\n",
    "session = Session.builder.configs(connection_parameters).create()"
   ]
  },
  {
   "cell_type": "code",
   "execution_count": 16,
   "id": "71aecbc8-9280-44ef-8f95-08220d0f050c",
   "metadata": {},
   "outputs": [
    {
     "data": {
      "text/plain": [
       "[Row(status='Statement executed successfully.')]"
      ]
     },
     "execution_count": 16,
     "metadata": {},
     "output_type": "execute_result"
    }
   ],
   "source": [
    "session.sql(\"CREATE TRANSIENT  DATABASE IF NOT EXISTS THINGSBOARD;\").collect()\n",
    "session.sql(\"CREATE  TRANSIENT  SCHEMA IF NOT EXISTS THINGSBOARD.SENSOR;\").collect()\n",
    "\n",
    "session.sql(\"USE DATABASE THINGSBOARD\").collect()\n",
    "session.sql(\"USE SCHEMA THINGSBOARD.SENSOR\").collect()\n"
   ]
  },
  {
   "cell_type": "code",
   "execution_count": 12,
   "id": "097b26ee-c77e-4440-8043-2b5cdba1d068",
   "metadata": {},
   "outputs": [
    {
     "data": {
      "text/plain": [
       "[Row(status='Stage area THINGSBOARD_JASON successfully created.')]"
      ]
     },
     "execution_count": 12,
     "metadata": {},
     "output_type": "execute_result"
    }
   ],
   "source": [
    "session.sql(\"CREATE STAGE if not exists THINGSBOARD_JASON\").collect()"
   ]
  },
  {
   "cell_type": "code",
   "execution_count": null,
   "id": "4b6212c6-8c53-46cd-a8a0-5a426fb9fe60",
   "metadata": {},
   "outputs": [],
   "source": [
    "session.sql(\"\"\"\n",
    "\n",
    ");\n",
    "\"\"\").collect()"
   ]
  },
  {
   "cell_type": "code",
   "execution_count": 13,
   "id": "03f1a23f-fd17-4dc9-a738-14a0747a68d8",
   "metadata": {},
   "outputs": [],
   "source": [
    "AWS_ACCESS_KEY_ID=os.getenv(\"AWS_ACCESS_KEY_ID\")\n",
    "AWS_SECRET_ACCESS_KEY =os.getenv(\"AWS_SECRET_ACCESS_KEY\")"
   ]
  },
  {
   "cell_type": "code",
   "execution_count": null,
   "id": "974fa8f6-cecc-410f-b8e3-027e57759c5b",
   "metadata": {},
   "outputs": [],
   "source": [
    "COPY INTO mytable\n",
    "FROM 's3://fastapi-snowflake/table.json'\n",
    "credentials=(AWS_KEY_ID= AWS_ACCESS_KEY_ID AWS_SECRET_KEY=AWS_SECRET_ACCESS_KEY')\n",
    "FILE_FORMAT = (TYPE = JSON);"
   ]
  }
 ],
 "metadata": {
  "kernelspec": {
   "display_name": "Python 3 (ipykernel)",
   "language": "python",
   "name": "python3"
  },
  "language_info": {
   "codemirror_mode": {
    "name": "ipython",
    "version": 3
   },
   "file_extension": ".py",
   "mimetype": "text/x-python",
   "name": "python",
   "nbconvert_exporter": "python",
   "pygments_lexer": "ipython3",
   "version": "3.11.10"
  }
 },
 "nbformat": 4,
 "nbformat_minor": 5
}
