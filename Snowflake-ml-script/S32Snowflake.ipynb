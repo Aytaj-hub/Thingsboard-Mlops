{
 "cells": [
  {
   "cell_type": "code",
   "execution_count": 2,
   "id": "32bf4166-a48e-4317-9dc7-5ebe37e3c5eb",
   "metadata": {},
   "outputs": [],
   "source": [
    "\n",
    "\n",
    "import pandas as pd"
   ]
  },
  {
   "cell_type": "code",
   "execution_count": 4,
   "id": "32a6ef5a-e256-4b64-ac3d-13226a605a8c",
   "metadata": {},
   "outputs": [
    {
     "ename": "ModuleNotFoundError",
     "evalue": "No module named 'snowflake.snowpark'",
     "output_type": "error",
     "traceback": [
      "\u001b[0;31m---------------------------------------------------------------------------\u001b[0m",
      "\u001b[0;31mModuleNotFoundError\u001b[0m                       Traceback (most recent call last)",
      "Cell \u001b[0;32mIn[4], line 4\u001b[0m\n\u001b[1;32m      2\u001b[0m \u001b[38;5;28;01mimport\u001b[39;00m \u001b[38;5;21;01mjson\u001b[39;00m\n\u001b[1;32m      3\u001b[0m \u001b[38;5;28;01mimport\u001b[39;00m \u001b[38;5;21;01mos\u001b[39;00m\n\u001b[0;32m----> 4\u001b[0m \u001b[38;5;28;01mimport\u001b[39;00m \u001b[38;5;21;01msnowflake\u001b[39;00m\u001b[38;5;21;01m.\u001b[39;00m\u001b[38;5;21;01msnowpark\u001b[39;00m\u001b[38;5;21;01m.\u001b[39;00m\u001b[38;5;21;01mfunctions\u001b[39;00m \u001b[38;5;28;01mas\u001b[39;00m \u001b[38;5;21;01mF\u001b[39;00m\n\u001b[1;32m      5\u001b[0m \u001b[38;5;28;01mfrom\u001b[39;00m \u001b[38;5;21;01msnowflake\u001b[39;00m\u001b[38;5;21;01m.\u001b[39;00m\u001b[38;5;21;01mml\u001b[39;00m\u001b[38;5;21;01m.\u001b[39;00m\u001b[38;5;21;01mutils\u001b[39;00m\u001b[38;5;21;01m.\u001b[39;00m\u001b[38;5;21;01mconnection_params\u001b[39;00m \u001b[38;5;28;01mimport\u001b[39;00m SnowflakeLoginOptions\n\u001b[1;32m      6\u001b[0m \u001b[38;5;28;01mfrom\u001b[39;00m \u001b[38;5;21;01msnowflake\u001b[39;00m\u001b[38;5;21;01m.\u001b[39;00m\u001b[38;5;21;01msnowpark\u001b[39;00m \u001b[38;5;28;01mimport\u001b[39;00m Session\n",
      "\u001b[0;31mModuleNotFoundError\u001b[0m: No module named 'snowflake.snowpark'"
     ]
    }
   ],
   "source": [
    "import pandas as pd\n",
    "import json\n",
    "import os\n",
    "import snowflake.snowpark.functions as F\n",
    "from snowflake.ml.utils.connection_params import SnowflakeLoginOptions\n",
    "from snowflake.snowpark import Session"
   ]
  },
  {
   "cell_type": "code",
   "execution_count": 6,
   "id": "b56084ad-7af8-487f-8883-673e824ad53a",
   "metadata": {},
   "outputs": [
    {
     "name": "stdout",
     "output_type": "stream",
     "text": [
      "\u001b[31mERROR: Ignored the following versions that require a different python version: 0.10.0 Requires-Python ==3.8.*; 0.11.0 Requires-Python ==3.8.*; 0.12.0 Requires-Python ==3.8.*; 0.6.0 Requires-Python ==3.8.*; 0.7.0 Requires-Python ==3.8.*; 0.8.0 Requires-Python ==3.8.*; 0.9.0 Requires-Python ==3.8.*; 1.0.0 Requires-Python ==3.8.*; 1.1.0 Requires-Python ==3.8.*; 1.10.0 Requires-Python >=3.8, <3.12; 1.11.0 Requires-Python >=3.8, <3.12; 1.11.1 Requires-Python >=3.8, <3.12; 1.12.0 Requires-Python >=3.8, <3.12; 1.12.1 Requires-Python >=3.8, <3.12; 1.13.0 Requires-Python >=3.8, <3.12; 1.14.0 Requires-Python <3.12,>=3.8; 1.15.0 Requires-Python <3.12,>=3.8; 1.16.0 Requires-Python <3.12,>=3.8; 1.17.0 Requires-Python <3.12,>=3.8; 1.18.0 Requires-Python <3.12,>=3.8; 1.19.0 Requires-Python <3.12,>=3.8; 1.2.0 Requires-Python ==3.8.*; 1.20.0 Requires-Python <3.12,>=3.8; 1.21.0 Requires-Python <3.12,>=3.8; 1.21.1 Requires-Python <3.12,>=3.8; 1.22.0 Requires-Python <3.12,>=3.8; 1.22.1 Requires-Python <3.12,>=3.8; 1.23.0 Requires-Python <3.12,>=3.8; 1.24.0 Requires-Python <3.12,>=3.8; 1.25.0 Requires-Python <3.12,>=3.8; 1.3.0 Requires-Python ==3.8.*; 1.4.0 Requires-Python ==3.8.*; 1.5.0 Requires-Python >=3.8, <3.10; 1.5.1 Requires-Python >=3.8, <3.11; 1.6.0 Requires-Python >=3.8, <3.11; 1.6.1 Requires-Python >=3.8, <3.11; 1.7.0 Requires-Python >=3.8, <3.11; 1.8.0 Requires-Python >=3.8, <3.11; 1.9.0 Requires-Python >=3.8, <3.12\u001b[0m\u001b[31m\n",
      "\u001b[0m\u001b[31mERROR: Could not find a version that satisfies the requirement snowflake-snowpark-python (from versions: none)\u001b[0m\u001b[31m\n",
      "\u001b[0m\n",
      "\u001b[1m[\u001b[0m\u001b[34;49mnotice\u001b[0m\u001b[1;39;49m]\u001b[0m\u001b[39;49m A new release of pip is available: \u001b[0m\u001b[31;49m24.2\u001b[0m\u001b[39;49m -> \u001b[0m\u001b[32;49m24.3.1\u001b[0m\n",
      "\u001b[1m[\u001b[0m\u001b[34;49mnotice\u001b[0m\u001b[1;39;49m]\u001b[0m\u001b[39;49m To update, run: \u001b[0m\u001b[32;49mpip install --upgrade pip\u001b[0m\n",
      "\u001b[31mERROR: No matching distribution found for snowflake-snowpark-python\u001b[0m\u001b[31m\n",
      "\u001b[0mNote: you may need to restart the kernel to use updated packages.\n"
     ]
    }
   ],
   "source": [
    "pip install snowflake-snowpark-python\n"
   ]
  }
 ],
 "metadata": {
  "kernelspec": {
   "display_name": "Python 3 (ipykernel)",
   "language": "python",
   "name": "python3"
  },
  "language_info": {
   "codemirror_mode": {
    "name": "ipython",
    "version": 3
   },
   "file_extension": ".py",
   "mimetype": "text/x-python",
   "name": "python",
   "nbconvert_exporter": "python",
   "pygments_lexer": "ipython3",
   "version": "3.12.7"
  }
 },
 "nbformat": 4,
 "nbformat_minor": 5
}
