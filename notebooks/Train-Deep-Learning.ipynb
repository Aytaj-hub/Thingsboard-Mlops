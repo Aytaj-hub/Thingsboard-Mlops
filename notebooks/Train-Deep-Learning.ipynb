{
 "cells": [
  {
   "cell_type": "code",
   "execution_count": 1,
   "id": "a3ad7f62-620f-4d28-82c6-31079a39cebf",
   "metadata": {},
   "outputs": [],
   "source": [
    "import snowflake.snowpark.functions as F\n",
    "from snowflake.snowpark.session import Session\n",
    "from snowflake.snowpark.types import StructType, StructField, FloatType\n",
    "from snowflake.snowpark import Session\n",
    "import os\n",
    "import json"
   ]
  },
  {
   "cell_type": "code",
   "execution_count": 10,
   "id": "9b4f72a9-1668-4e3d-84af-c3b1f21654b9",
   "metadata": {},
   "outputs": [],
   "source": [
    "connection_parameters = {\n",
    "    \"account\": os.getenv(\"SNOWFLAKE_ACCOUNT\"),\n",
    "    \"user\": os.getenv(\"SNOWFLAKE_USER\"),\n",
    "    \"password\": os.getenv(\"SNOWFLAKE_PASSWORD\"),\n",
    "    \"schema\": \"SENSOR\",\n",
    "    \"database\": \"THINGSBOARD\",\n",
    "    \"role\": os.getenv(\"SNOWFLAKE_ROLE\"),\n",
    "    \"warehouse\": os.getenv(\"SNOWFLAKE_WAREHOUSE\"),\n",
    "}\n",
    "\n",
    "session = Session.builder.configs(connection_parameters).create()"
   ]
  },
  {
   "cell_type": "code",
   "execution_count": 11,
   "id": "8b7c23ae-1509-427b-b2d7-c6e853bf30c1",
   "metadata": {},
   "outputs": [],
   "source": [
    "environmental_df = session.table(\"ENVIRONMENTAL\")"
   ]
  },
  {
   "cell_type": "code",
   "execution_count": 12,
   "id": "3feede3d-9c67-4aa0-ac73-c237f9e8bdb7",
   "metadata": {},
   "outputs": [
    {
     "name": "stdout",
     "output_type": "stream",
     "text": [
      "------------------------------------------------------------------------------------------------------\n",
      "|\"TS\"                 |\"DEVICE\"  |\"CO\"  |\"HUMIDITY\"  |\"LIGHT\"  |\"LPG\"  |\"MOTION\"  |\"SMOKE\"  |\"TEMP\"  |\n",
      "------------------------------------------------------------------------------------------------------\n",
      "|2024-07-10 23:00:00  |NULL      |4.9   |51.8        |False    |7.6    |False     |20.3     |22.6    |\n",
      "|2024-07-10 22:00:00  |NULL      |4.9   |51.7        |False    |7.6    |False     |20.3     |22.5    |\n",
      "|2024-07-10 21:00:00  |NULL      |2.3   |76.8        |False    |4.5    |False     |11.5     |19.8    |\n",
      "|2024-07-10 20:00:00  |NULL      |4.1   |77.0        |True     |6.7    |False     |17.8     |26.5    |\n",
      "|2024-07-10 19:00:00  |NULL      |4.9   |51.7        |False    |7.6    |False     |20.1     |22.5    |\n",
      "------------------------------------------------------------------------------------------------------\n",
      "\n"
     ]
    }
   ],
   "source": [
    "environmental_df.show(5)"
   ]
  },
  {
   "cell_type": "code",
   "execution_count": 13,
   "id": "09929848-09c4-436d-ac1f-c4780122233d",
   "metadata": {},
   "outputs": [],
   "source": [
    "pandas_df =environmental_df.toPandas()"
   ]
  },
  {
   "cell_type": "code",
   "execution_count": 14,
   "id": "16cd0fbc-4cec-48fa-9582-663f25d4332a",
   "metadata": {},
   "outputs": [
    {
     "data": {
      "text/html": [
       "<div>\n",
       "<style scoped>\n",
       "    .dataframe tbody tr th:only-of-type {\n",
       "        vertical-align: middle;\n",
       "    }\n",
       "\n",
       "    .dataframe tbody tr th {\n",
       "        vertical-align: top;\n",
       "    }\n",
       "\n",
       "    .dataframe thead th {\n",
       "        text-align: right;\n",
       "    }\n",
       "</style>\n",
       "<table border=\"1\" class=\"dataframe\">\n",
       "  <thead>\n",
       "    <tr style=\"text-align: right;\">\n",
       "      <th></th>\n",
       "      <th>TS</th>\n",
       "      <th>DEVICE</th>\n",
       "      <th>CO</th>\n",
       "      <th>HUMIDITY</th>\n",
       "      <th>LIGHT</th>\n",
       "      <th>LPG</th>\n",
       "      <th>MOTION</th>\n",
       "      <th>SMOKE</th>\n",
       "      <th>TEMP</th>\n",
       "    </tr>\n",
       "  </thead>\n",
       "  <tbody>\n",
       "    <tr>\n",
       "      <th>0</th>\n",
       "      <td>2024-07-10 23:00:00</td>\n",
       "      <td>None</td>\n",
       "      <td>4.9</td>\n",
       "      <td>51.8</td>\n",
       "      <td>False</td>\n",
       "      <td>7.6</td>\n",
       "      <td>False</td>\n",
       "      <td>20.3</td>\n",
       "      <td>22.6</td>\n",
       "    </tr>\n",
       "    <tr>\n",
       "      <th>1</th>\n",
       "      <td>2024-07-10 22:00:00</td>\n",
       "      <td>None</td>\n",
       "      <td>4.9</td>\n",
       "      <td>51.7</td>\n",
       "      <td>False</td>\n",
       "      <td>7.6</td>\n",
       "      <td>False</td>\n",
       "      <td>20.3</td>\n",
       "      <td>22.5</td>\n",
       "    </tr>\n",
       "    <tr>\n",
       "      <th>2</th>\n",
       "      <td>2024-07-10 21:00:00</td>\n",
       "      <td>None</td>\n",
       "      <td>2.3</td>\n",
       "      <td>76.8</td>\n",
       "      <td>False</td>\n",
       "      <td>4.5</td>\n",
       "      <td>False</td>\n",
       "      <td>11.5</td>\n",
       "      <td>19.8</td>\n",
       "    </tr>\n",
       "    <tr>\n",
       "      <th>3</th>\n",
       "      <td>2024-07-10 20:00:00</td>\n",
       "      <td>None</td>\n",
       "      <td>4.1</td>\n",
       "      <td>77.0</td>\n",
       "      <td>True</td>\n",
       "      <td>6.7</td>\n",
       "      <td>False</td>\n",
       "      <td>17.8</td>\n",
       "      <td>26.5</td>\n",
       "    </tr>\n",
       "    <tr>\n",
       "      <th>4</th>\n",
       "      <td>2024-07-10 19:00:00</td>\n",
       "      <td>None</td>\n",
       "      <td>4.9</td>\n",
       "      <td>51.7</td>\n",
       "      <td>False</td>\n",
       "      <td>7.6</td>\n",
       "      <td>False</td>\n",
       "      <td>20.1</td>\n",
       "      <td>22.5</td>\n",
       "    </tr>\n",
       "  </tbody>\n",
       "</table>\n",
       "</div>"
      ],
      "text/plain": [
       "                   TS DEVICE   CO  HUMIDITY  LIGHT  LPG  MOTION  SMOKE  TEMP\n",
       "0 2024-07-10 23:00:00   None  4.9      51.8  False  7.6   False   20.3  22.6\n",
       "1 2024-07-10 22:00:00   None  4.9      51.7  False  7.6   False   20.3  22.5\n",
       "2 2024-07-10 21:00:00   None  2.3      76.8  False  4.5   False   11.5  19.8\n",
       "3 2024-07-10 20:00:00   None  4.1      77.0   True  6.7   False   17.8  26.5\n",
       "4 2024-07-10 19:00:00   None  4.9      51.7  False  7.6   False   20.1  22.5"
      ]
     },
     "execution_count": 14,
     "metadata": {},
     "output_type": "execute_result"
    }
   ],
   "source": [
    "pandas_df.head()"
   ]
  }
 ],
 "metadata": {
  "kernelspec": {
   "display_name": "Python 3 (ipykernel)",
   "language": "python",
   "name": "python3"
  },
  "language_info": {
   "codemirror_mode": {
    "name": "ipython",
    "version": 3
   },
   "file_extension": ".py",
   "mimetype": "text/x-python",
   "name": "python",
   "nbconvert_exporter": "python",
   "pygments_lexer": "ipython3",
   "version": "3.11.10"
  }
 },
 "nbformat": 4,
 "nbformat_minor": 5
}
