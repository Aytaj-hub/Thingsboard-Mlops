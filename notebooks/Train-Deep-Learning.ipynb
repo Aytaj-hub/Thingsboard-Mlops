{
 "cells": [
  {
   "cell_type": "code",
   "execution_count": 1,
   "id": "a3ad7f62-620f-4d28-82c6-31079a39cebf",
   "metadata": {},
   "outputs": [],
   "source": [
    "import snowflake.snowpark.functions as F\n",
    "from snowflake.snowpark.session import Session\n",
    "from snowflake.snowpark.types import StructType, StructField, FloatType\n",
    "from snowflake.snowpark import Session\n",
    "import os\n",
    "import json"
   ]
  },
  {
   "cell_type": "code",
   "execution_count": 2,
   "id": "9b4f72a9-1668-4e3d-84af-c3b1f21654b9",
   "metadata": {},
   "outputs": [],
   "source": [
    "connection_parameters = {\n",
    "    \"account\": os.getenv(\"SNOWFLAKE_ACCOUNT\"),\n",
    "    \"user\": os.getenv(\"SNOWFLAKE_USER\"),\n",
    "    \"password\": os.getenv(\"SNOWFLAKE_PASSWORD\"),\n",
    "    \"schema\": \"SENSOR\",\n",
    "    \"database\": \"THINGSBOARD\",\n",
    "    \"role\": os.getenv(\"SNOWFLAKE_ROLE\"),\n",
    "    \"warehouse\": os.getenv(\"SNOWFLAKE_WAREHOUSE\"),\n",
    "}\n",
    "\n",
    "session = Session.builder.configs(connection_parameters).create()"
   ]
  },
  {
   "cell_type": "code",
   "execution_count": 3,
   "id": "8b7c23ae-1509-427b-b2d7-c6e853bf30c1",
   "metadata": {},
   "outputs": [],
   "source": [
    "environmental_df = session.table(\"ENVIRONMENTAL\")"
   ]
  },
  {
   "cell_type": "code",
   "execution_count": 4,
   "id": "3feede3d-9c67-4aa0-ac73-c237f9e8bdb7",
   "metadata": {},
   "outputs": [
    {
     "name": "stdout",
     "output_type": "stream",
     "text": [
      "-------------------------------------------------------------------------------------------\n",
      "|\"TS\"                 |\"CO\"  |\"HUMIDITY\"  |\"LIGHT\"  |\"LPG\"  |\"MOTION\"  |\"SMOKE\"  |\"TEMP\"  |\n",
      "-------------------------------------------------------------------------------------------\n",
      "|2024-01-02 12:30:00  |5.0   |51.1        |False    |7.7    |False     |20.6     |22.7    |\n",
      "|2024-01-02 12:20:00  |2.7   |75.6        |False    |5.0    |False     |12.9     |19.8    |\n",
      "|2024-01-02 12:10:00  |5.0   |51.1        |False    |7.7    |False     |20.5     |22.6    |\n",
      "|2024-01-02 12:00:00  |2.8   |75.8        |False    |5.1    |False     |13.1     |19.8    |\n",
      "|2024-01-02 11:50:00  |5.0   |51.1        |False    |7.7    |False     |20.5     |22.7    |\n",
      "-------------------------------------------------------------------------------------------\n",
      "\n"
     ]
    }
   ],
   "source": [
    "environmental_df.show(5)"
   ]
  },
  {
   "cell_type": "code",
   "execution_count": null,
   "id": "d1c690ed-0ebb-411c-b45f-9f96c0f7f7bf",
   "metadata": {},
   "outputs": [],
   "source": []
  },
  {
   "cell_type": "code",
   "execution_count": 5,
   "id": "09929848-09c4-436d-ac1f-c4780122233d",
   "metadata": {},
   "outputs": [],
   "source": [
    "pandas_df =environmental_df.toPandas()"
   ]
  },
  {
   "cell_type": "code",
   "execution_count": 6,
   "id": "16cd0fbc-4cec-48fa-9582-663f25d4332a",
   "metadata": {},
   "outputs": [
    {
     "data": {
      "text/html": [
       "<div>\n",
       "<style scoped>\n",
       "    .dataframe tbody tr th:only-of-type {\n",
       "        vertical-align: middle;\n",
       "    }\n",
       "\n",
       "    .dataframe tbody tr th {\n",
       "        vertical-align: top;\n",
       "    }\n",
       "\n",
       "    .dataframe thead th {\n",
       "        text-align: right;\n",
       "    }\n",
       "</style>\n",
       "<table border=\"1\" class=\"dataframe\">\n",
       "  <thead>\n",
       "    <tr style=\"text-align: right;\">\n",
       "      <th></th>\n",
       "      <th>TS</th>\n",
       "      <th>CO</th>\n",
       "      <th>HUMIDITY</th>\n",
       "      <th>LIGHT</th>\n",
       "      <th>LPG</th>\n",
       "      <th>MOTION</th>\n",
       "      <th>SMOKE</th>\n",
       "      <th>TEMP</th>\n",
       "    </tr>\n",
       "  </thead>\n",
       "  <tbody>\n",
       "    <tr>\n",
       "      <th>0</th>\n",
       "      <td>2024-01-02 12:30:00</td>\n",
       "      <td>5.0</td>\n",
       "      <td>51.1</td>\n",
       "      <td>False</td>\n",
       "      <td>7.7</td>\n",
       "      <td>False</td>\n",
       "      <td>20.6</td>\n",
       "      <td>22.7</td>\n",
       "    </tr>\n",
       "    <tr>\n",
       "      <th>1</th>\n",
       "      <td>2024-01-02 12:20:00</td>\n",
       "      <td>2.7</td>\n",
       "      <td>75.6</td>\n",
       "      <td>False</td>\n",
       "      <td>5.0</td>\n",
       "      <td>False</td>\n",
       "      <td>12.9</td>\n",
       "      <td>19.8</td>\n",
       "    </tr>\n",
       "    <tr>\n",
       "      <th>2</th>\n",
       "      <td>2024-01-02 12:10:00</td>\n",
       "      <td>5.0</td>\n",
       "      <td>51.1</td>\n",
       "      <td>False</td>\n",
       "      <td>7.7</td>\n",
       "      <td>False</td>\n",
       "      <td>20.5</td>\n",
       "      <td>22.6</td>\n",
       "    </tr>\n",
       "    <tr>\n",
       "      <th>3</th>\n",
       "      <td>2024-01-02 12:00:00</td>\n",
       "      <td>2.8</td>\n",
       "      <td>75.8</td>\n",
       "      <td>False</td>\n",
       "      <td>5.1</td>\n",
       "      <td>False</td>\n",
       "      <td>13.1</td>\n",
       "      <td>19.8</td>\n",
       "    </tr>\n",
       "    <tr>\n",
       "      <th>4</th>\n",
       "      <td>2024-01-02 11:50:00</td>\n",
       "      <td>5.0</td>\n",
       "      <td>51.1</td>\n",
       "      <td>False</td>\n",
       "      <td>7.7</td>\n",
       "      <td>False</td>\n",
       "      <td>20.5</td>\n",
       "      <td>22.7</td>\n",
       "    </tr>\n",
       "  </tbody>\n",
       "</table>\n",
       "</div>"
      ],
      "text/plain": [
       "                   TS   CO  HUMIDITY  LIGHT  LPG  MOTION  SMOKE  TEMP\n",
       "0 2024-01-02 12:30:00  5.0      51.1  False  7.7   False   20.6  22.7\n",
       "1 2024-01-02 12:20:00  2.7      75.6  False  5.0   False   12.9  19.8\n",
       "2 2024-01-02 12:10:00  5.0      51.1  False  7.7   False   20.5  22.6\n",
       "3 2024-01-02 12:00:00  2.8      75.8  False  5.1   False   13.1  19.8\n",
       "4 2024-01-02 11:50:00  5.0      51.1  False  7.7   False   20.5  22.7"
      ]
     },
     "execution_count": 6,
     "metadata": {},
     "output_type": "execute_result"
    }
   ],
   "source": [
    "pandas_df.head()"
   ]
  },
  {
   "cell_type": "code",
   "execution_count": null,
   "id": "07203b77-e155-45df-9208-52d68e2e3f19",
   "metadata": {},
   "outputs": [],
   "source": []
  }
 ],
 "metadata": {
  "kernelspec": {
   "display_name": "Python 3 (ipykernel)",
   "language": "python",
   "name": "python3"
  },
  "language_info": {
   "codemirror_mode": {
    "name": "ipython",
    "version": 3
   },
   "file_extension": ".py",
   "mimetype": "text/x-python",
   "name": "python",
   "nbconvert_exporter": "python",
   "pygments_lexer": "ipython3",
   "version": "3.11.10"
  }
 },
 "nbformat": 4,
 "nbformat_minor": 5
}
