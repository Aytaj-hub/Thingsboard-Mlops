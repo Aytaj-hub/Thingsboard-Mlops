{
 "cells": [
  {
   "cell_type": "code",
   "execution_count": 7,
   "id": "319238c9-a02c-4c61-a91b-efe0372ae5d5",
   "metadata": {},
   "outputs": [],
   "source": [
    "#!pip install snowflake-snowpark-python\n",
    "#!pip install snowflake-ml-python"
   ]
  },
  {
   "cell_type": "code",
   "execution_count": 8,
   "id": "1a16db14-e48e-4fb0-be98-5132a92bbe29",
   "metadata": {},
   "outputs": [],
   "source": [
    "import pandas as pd\n",
    "import json\n",
    "import os\n",
    "import snowflake.snowpark.functions as F\n",
    "from snowflake.ml.utils.connection_params import SnowflakeLoginOptions\n",
    "from snowflake.snowpark import Session"
   ]
  },
  {
   "cell_type": "code",
   "execution_count": 9,
   "id": "ccda462b-df51-4f86-b353-63e7792aaabf",
   "metadata": {},
   "outputs": [],
   "source": [
    "connection_parameters = {\n",
    "    \"account\": os.getenv(\"SNOWFLAKE_ACCOUNT\"),\n",
    "    \"user\": os.getenv(\"SNOWFLAKE_USER\"),\n",
    "    \"password\": os.getenv(\"SNOWFLAKE_PASSWORD\"),\n",
    "    \"schema\": os.getenv(\"SNOWFLAKE_SCHEMA\"),\n",
    "    \"database\": os.getenv(\"SNOWFLAKE_DATABASE\"),\n",
    "    \"role\": os.getenv(\"SNOWFLAKE_ROLE\"),\n",
    "    \"warehouse\": os.getenv(\"SNOWFLAKE_WAREHOUSE\"),\n",
    "}\n",
    "\n",
    "session = Session.builder.configs(connection_parameters).create()"
   ]
  },
  {
   "cell_type": "code",
   "execution_count": 10,
   "id": "081037f2-5312-4078-babe-d28a8a9cdd50",
   "metadata": {},
   "outputs": [
    {
     "data": {
      "text/plain": [
       "[Row(status='Statement executed successfully.')]"
      ]
     },
     "execution_count": 10,
     "metadata": {},
     "output_type": "execute_result"
    }
   ],
   "source": [
    "session.sql(\"CREATE TRANSIENT  DATABASE IF NOT EXISTS THINGSBOARD;\").collect()\n",
    "session.sql(\"CREATE  TRANSIENT  SCHEMA IF NOT EXISTS THINGSBOARD.SENSOR;\").collect()\n",
    "\n",
    "session.sql(\"USE DATABASE THINGSBOARD\").collect()\n",
    "session.sql(\"USE SCHEMA THINGSBOARD.SENSOR\").collect()"
   ]
  },
  {
   "cell_type": "code",
   "execution_count": 12,
   "id": "6f7418ef-daec-43fd-a56f-65feffff8f8b",
   "metadata": {},
   "outputs": [
    {
     "data": {
      "text/plain": [
       "[Row(status='Table ENVIRONMENTAL successfully created.')]"
      ]
     },
     "execution_count": 12,
     "metadata": {},
     "output_type": "execute_result"
    }
   ],
   "source": [
    "session.sql(\"\"\"\n",
    "    CREATE OR REPLACE TRANSIENT TABLE THINGSBOARD.SENSOR.Environmental \n",
    "    (ts TIMESTAMP,\n",
    "     device VARCHAR, \n",
    "     co FLOAT,\n",
    "     humidity FLOAT, \n",
    "     light BOOLEAN, \n",
    "     lpg FLOAT,\n",
    "     motion BOOLEAN, \n",
    "     smoke FLOAT, \n",
    "     temp FLOAT)\n",
    "\"\"\").collect()"
   ]
  },
  {
   "cell_type": "code",
   "execution_count": 31,
   "id": "1bbd9fc5-d074-4de1-a00b-ab27494f31e0",
   "metadata": {},
   "outputs": [
    {
     "data": {
      "text/plain": [
       "[Row(TS=None, DEVICE=None, CO=None, HUMIDITY=None, LIGHT=None, LPG=None, MOTION=None, SMOKE=None, TEMP=None),\n",
       " Row(TS=None, DEVICE=None, CO=None, HUMIDITY=None, LIGHT=None, LPG=None, MOTION=None, SMOKE=None, TEMP=None)]"
      ]
     },
     "execution_count": 31,
     "metadata": {},
     "output_type": "execute_result"
    }
   ],
   "source": [
    "\n"
   ]
  },
  {
   "cell_type": "code",
   "execution_count": 29,
   "id": "0e29c73b-e285-4dca-9252-dae618624086",
   "metadata": {},
   "outputs": [
    {
     "data": {
      "text/plain": [
       "[Row(status='Copy executed with 0 files processed.')]"
      ]
     },
     "execution_count": 29,
     "metadata": {},
     "output_type": "execute_result"
    }
   ],
   "source": [
    "\n",
    "import os\n",
    "\n",
    "aws_access_key = os.getenv('AWS_ACCESS_KEY_ID')\n",
    "aws_secret_key = os.getenv('AWS_SECRET_ACCESS_KEY')\n",
    "\n",
    "# Create stage with env variables\n",
    "session.sql(f\"\"\"\n",
    "    CREATE OR REPLACE STAGE THINGSBOARD.SENSOR.s3_stage\n",
    "    url = 's3://fastapi-snowflake/'\n",
    "    credentials=(AWS_KEY_ID='{aws_access_key}' AWS_SECRET_KEY='{aws_secret_key}')\n",
    "    file_format = (type = 'JSON');\n",
    "\"\"\").collect()\n",
    "\n",
    "# Copy data using the stage\n",
    "session.sql(\"\"\"\n",
    "    COPY INTO THINGSBOARD.SENSOR.Environmental\n",
    "    FROM @THINGSBOARD.SENSOR.s3_stage/Environmental.json\n",
    "    FILE_FORMAT = (TYPE = JSON)\n",
    "    MATCH_BY_COLUMN_NAME = CASE_SENSITIVE;\n",
    "\"\"\").collect()\n"
   ]
  },
  {
   "cell_type": "code",
   "execution_count": 32,
   "id": "d9eeb93f-7858-4255-a318-03f738c0c01a",
   "metadata": {},
   "outputs": [
    {
     "data": {
      "text/plain": [
       "[Row(TS=None, DEVICE=None, CO=None, HUMIDITY=None, LIGHT=None, LPG=None, MOTION=None, SMOKE=None, TEMP=None),\n",
       " Row(TS=None, DEVICE=None, CO=None, HUMIDITY=None, LIGHT=None, LPG=None, MOTION=None, SMOKE=None, TEMP=None)]"
      ]
     },
     "execution_count": 32,
     "metadata": {},
     "output_type": "execute_result"
    }
   ],
   "source": [
    "session.sql(\"SELECT * FROM THINGSBOARD.SENSOR.Environmental\").collect()"
   ]
  }
 ],
 "metadata": {
  "kernelspec": {
   "display_name": "Python 3 (ipykernel)",
   "language": "python",
   "name": "python3"
  },
  "language_info": {
   "codemirror_mode": {
    "name": "ipython",
    "version": 3
   },
   "file_extension": ".py",
   "mimetype": "text/x-python",
   "name": "python",
   "nbconvert_exporter": "python",
   "pygments_lexer": "ipython3",
   "version": "3.11.10"
  }
 },
 "nbformat": 4,
 "nbformat_minor": 5
}
