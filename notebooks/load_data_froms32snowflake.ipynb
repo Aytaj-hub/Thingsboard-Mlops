{
 "cells": [
  {
   "cell_type": "code",
   "execution_count": null,
   "id": "319238c9-a02c-4c61-a91b-efe0372ae5d5",
   "metadata": {},
   "outputs": [],
   "source": [
    "import pandas as pd\n",
    "import json\n",
    "import os\n",
    "import snowflake.snowpark.functions as F\n",
    "from snowflake.ml.utils.connection_params import SnowflakeLoginOptions\n",
    "from snowflake.snowpark import Session"
   ]
  },
  {
   "cell_type": "code",
   "execution_count": null,
   "id": "ccda462b-df51-4f86-b353-63e7792aaabf",
   "metadata": {},
   "outputs": [],
   "source": [
    "connection_parameters = {\n",
    "    \"account\": os.getenv(\"SNOWFLAKE_ACCOUNT\"),\n",
    "    \"user\": os.getenv(\"SNOWFLAKE_USER\"),\n",
    "    \"password\": os.getenv(\"SNOWFLAKE_PASSWORD\"),\n",
    "    \"schema\": os.getenv(\"SNOWFLAKE_SCHEMA\"),\n",
    "    \"database\": os.getenv(\"SNOWFLAKE_DATABASE\"),\n",
    "    \"role\": os.getenv(\"SNOWFLAKE_ROLE\"),\n",
    "    \"warehouse\": os.getenv(\"SNOWFLAKE_WAREHOUSE\"),\n",
    "}\n",
    "\n",
    "session = Session.builder.configs(connection_parameters).create()"
   ]
  },
  {
   "cell_type": "code",
   "execution_count": null,
   "id": "081037f2-5312-4078-babe-d28a8a9cdd50",
   "metadata": {},
   "outputs": [],
   "source": [
    "session.sql(\"CREATE TRANSIENT  DATABASE IF NOT EXISTS THINGSBOARD;\").collect()\n",
    "session.sql(\"CREATE  TRANSIENT  SCHEMA IF NOT EXISTS THINGSBOARD.SENSOR;\").collect()\n",
    "\n",
    "session.sql(\"USE DATABASE THINGSBOARD\").collect()\n",
    "session.sql(\"USE SCHEMA THINGSBOARD.SENSOR\").collect()"
   ]
  },
  {
   "cell_type": "code",
   "execution_count": null,
   "id": "6f7418ef-daec-43fd-a56f-65feffff8f8b",
   "metadata": {},
   "outputs": [],
   "source": [
    "session.sql(\"CREATE OR REPLACE TRANSIENT TABLE THINGSBOARD.SENSOR.SENSOR_TABLE (\n",
    "    ts TIMESTAMP,                -- timestamp of reading\n",
    "    device VARCHAR,              -- unique device name\n",
    "    co FLOAT,                    -- carbon monoxide\n",
    "    humidity FLOAT,              -- humidity percentage\n",
    "    light BOOLEAN,               -- light detected\n",
    "    lpg FLOAT,                   -- liquefied petroleum gas\n",
    "    motion BOOLEAN,              -- motion detected\n",
    "    smoke FLOAT,                 -- smoke\n",
    "    temp FLOAT,                  -- temperature in Fahrenheit\n",
    "    created_at TIMESTAMP DEFAULT CURRENT_TIMESTAMP()\"\n",
    ").collect()"
   ]
  },
  {
   "cell_type": "code",
   "execution_count": null,
   "id": "c7529a8b-4701-429d-8fde-cf44acc692f0",
   "metadata": {},
   "outputs": [],
   "source": []
  },
  {
   "cell_type": "code",
   "execution_count": null,
   "id": "4fa3e662-6cec-4f3c-a233-edf7248e67b5",
   "metadata": {},
   "outputs": [],
   "source": [
    "session.sql(\"CREATE STAGE if not exists THINGSBOARD_JASON\").collect()"
   ]
  },
  {
   "cell_type": "code",
   "execution_count": null,
   "id": "85442c4c-6bd3-4e8e-bccc-ce6eade3416a",
   "metadata": {},
   "outputs": [],
   "source": [
    "AWS_ACCESS_KEY_ID=os.getenv(\"AWS_ACCESS_KEY_ID\")\n",
    "AWS_SECRET_ACCESS_KEY =os.getenv(\"AWS_SECRET_ACCESS_KEY\")"
   ]
  },
  {
   "cell_type": "code",
   "execution_count": null,
   "id": "4e3e8084-e0bf-44ed-b4a0-0efa60f253aa",
   "metadata": {},
   "outputs": [],
   "source": [
    "COPY INTO mytable\n",
    "FROM 's3://fastapi-snowflake/table.json'\n",
    "credentials=(AWS_KEY_ID= AWS_ACCESS_KEY_ID AWS_SECRET_KEY=AWS_SECRET_ACCESS_KEY')\n",
    "FILE_FORMAT = (TYPE = JSON);"
   ]
  }
 ],
 "metadata": {
  "kernelspec": {
   "display_name": "Python 3 (ipykernel)",
   "language": "python",
   "name": "python3"
  },
  "language_info": {
   "codemirror_mode": {
    "name": "ipython",
    "version": 3
   },
   "file_extension": ".py",
   "mimetype": "text/x-python",
   "name": "python",
   "nbconvert_exporter": "python",
   "pygments_lexer": "ipython3",
   "version": "3.11.10"
  }
 },
 "nbformat": 4,
 "nbformat_minor": 5
}
