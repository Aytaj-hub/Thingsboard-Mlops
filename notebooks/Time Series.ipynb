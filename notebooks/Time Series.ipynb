{
 "cells": [
  {
   "cell_type": "code",
   "execution_count": 1,
   "id": "3787ca3d-ab06-4ae2-9522-88c4ebc69175",
   "metadata": {},
   "outputs": [],
   "source": [
    "# !pip install -r requirements.txt"
   ]
  },
  {
   "cell_type": "code",
   "execution_count": 2,
   "id": "bd51f6ec-fc44-4833-9e55-7e702819b0be",
   "metadata": {},
   "outputs": [],
   "source": [
    "import snowflake.snowpark.functions as F\n",
    "from snowflake.snowpark.session import Session\n",
    "from snowflake.snowpark.types import StructType, StructField, FloatType\n",
    "from snowflake.snowpark import Session\n",
    "import os\n",
    "import json\n",
    "import pandas as pd\n",
    "import numpy as np"
   ]
  },
  {
   "cell_type": "code",
   "execution_count": 21,
   "id": "82f78958-071f-4a1b-9a1c-e889d0b5b14b",
   "metadata": {},
   "outputs": [],
   "source": [
    "import pandas as pd\n",
    "import numpy as np\n",
    "from sklearn.model_selection import TimeSeriesSplit, GridSearchCV\n",
    "from sklearn.ensemble import RandomForestRegressor\n",
    "from sklearn.metrics import mean_absolute_error, mean_squared_error\n",
    "import joblib\n",
    "import mlflow\n",
    "import mlflow.sklearn\n",
    "import mlflow.xgboost\n",
    "import xgboost as xgb"
   ]
  },
  {
   "cell_type": "code",
   "execution_count": 3,
   "id": "c9909df2-d501-4ea9-97d0-e397383aa2f0",
   "metadata": {},
   "outputs": [],
   "source": [
    "connection_parameters = {\n",
    "    \"account\": os.getenv(\"SNOWFLAKE_ACCOUNT\"),\n",
    "    \"user\": os.getenv(\"SNOWFLAKE_USER\"),\n",
    "    \"password\": os.getenv(\"SNOWFLAKE_PASSWORD\"),\n",
    "    \"schema\": \"SENSOR\",\n",
    "    \"database\": \"THINGSBOARD\",\n",
    "    \"role\": os.getenv(\"SNOWFLAKE_ROLE\"),\n",
    "    \"warehouse\": os.getenv(\"SNOWFLAKE_WAREHOUSE\"),\n",
    "}\n",
    "\n",
    "session = Session.builder.configs(connection_parameters).create()"
   ]
  },
  {
   "cell_type": "code",
   "execution_count": 4,
   "id": "74cdd959-9d10-4a3b-9717-40c939818758",
   "metadata": {},
   "outputs": [],
   "source": [
    "environmental_df = session.table(\"ENVIRONMENTAL\")"
   ]
  },
  {
   "cell_type": "code",
   "execution_count": 5,
   "id": "b97170fa-8418-46a5-9771-81d9b3dbf17f",
   "metadata": {},
   "outputs": [
    {
     "name": "stdout",
     "output_type": "stream",
     "text": [
      "-------------------------------------------------------------------------------------------\n",
      "|\"TS\"                 |\"CO\"  |\"HUMIDITY\"  |\"LIGHT\"  |\"LPG\"  |\"MOTION\"  |\"SMOKE\"  |\"TEMP\"  |\n",
      "-------------------------------------------------------------------------------------------\n",
      "|2024-01-02 12:30:00  |5.0   |51.1        |False    |7.7    |False     |20.6     |22.7    |\n",
      "|2024-01-02 12:20:00  |2.7   |75.6        |False    |5.0    |False     |12.9     |19.8    |\n",
      "|2024-01-02 12:10:00  |5.0   |51.1        |False    |7.7    |False     |20.5     |22.6    |\n",
      "|2024-01-02 12:00:00  |2.8   |75.8        |False    |5.1    |False     |13.1     |19.8    |\n",
      "|2024-01-02 11:50:00  |5.0   |51.1        |False    |7.7    |False     |20.5     |22.7    |\n",
      "-------------------------------------------------------------------------------------------\n",
      "\n"
     ]
    }
   ],
   "source": [
    "environmental_df.show(5)"
   ]
  },
  {
   "cell_type": "code",
   "execution_count": 6,
   "id": "40714969-32f6-44c2-b24a-8b5357138dd8",
   "metadata": {},
   "outputs": [],
   "source": [
    "environmental_df = environmental_df.drop([\"HUMIDITY\", \"LIGHT\", \"LPG\", \"MOTION\", \"SMOKE\", \"TEMP\"])"
   ]
  },
  {
   "cell_type": "code",
   "execution_count": 7,
   "id": "a11226dc-58f7-4623-ae5b-01c1986c39f6",
   "metadata": {},
   "outputs": [],
   "source": [
    "df =environmental_df.toPandas()"
   ]
  },
  {
   "cell_type": "code",
   "execution_count": 8,
   "id": "ce6b7afb-13fa-484c-9d91-7a4f8a804d96",
   "metadata": {},
   "outputs": [
    {
     "data": {
      "text/html": [
       "<div>\n",
       "<style scoped>\n",
       "    .dataframe tbody tr th:only-of-type {\n",
       "        vertical-align: middle;\n",
       "    }\n",
       "\n",
       "    .dataframe tbody tr th {\n",
       "        vertical-align: top;\n",
       "    }\n",
       "\n",
       "    .dataframe thead th {\n",
       "        text-align: right;\n",
       "    }\n",
       "</style>\n",
       "<table border=\"1\" class=\"dataframe\">\n",
       "  <thead>\n",
       "    <tr style=\"text-align: right;\">\n",
       "      <th></th>\n",
       "      <th>TS</th>\n",
       "      <th>CO</th>\n",
       "    </tr>\n",
       "  </thead>\n",
       "  <tbody>\n",
       "    <tr>\n",
       "      <th>0</th>\n",
       "      <td>2024-01-02 12:30:00</td>\n",
       "      <td>5.0</td>\n",
       "    </tr>\n",
       "    <tr>\n",
       "      <th>1</th>\n",
       "      <td>2024-01-02 12:20:00</td>\n",
       "      <td>2.7</td>\n",
       "    </tr>\n",
       "    <tr>\n",
       "      <th>2</th>\n",
       "      <td>2024-01-02 12:10:00</td>\n",
       "      <td>5.0</td>\n",
       "    </tr>\n",
       "    <tr>\n",
       "      <th>3</th>\n",
       "      <td>2024-01-02 12:00:00</td>\n",
       "      <td>2.8</td>\n",
       "    </tr>\n",
       "    <tr>\n",
       "      <th>4</th>\n",
       "      <td>2024-01-02 11:50:00</td>\n",
       "      <td>5.0</td>\n",
       "    </tr>\n",
       "  </tbody>\n",
       "</table>\n",
       "</div>"
      ],
      "text/plain": [
       "                   TS   CO\n",
       "0 2024-01-02 12:30:00  5.0\n",
       "1 2024-01-02 12:20:00  2.7\n",
       "2 2024-01-02 12:10:00  5.0\n",
       "3 2024-01-02 12:00:00  2.8\n",
       "4 2024-01-02 11:50:00  5.0"
      ]
     },
     "execution_count": 8,
     "metadata": {},
     "output_type": "execute_result"
    }
   ],
   "source": [
    "df.head()"
   ]
  },
  {
   "cell_type": "code",
   "execution_count": 9,
   "id": "c466330e-3ed1-4ec5-bbf2-c0fb5145eb79",
   "metadata": {},
   "outputs": [],
   "source": [
    "df = df.sort_values('TS').reset_index(drop=True)"
   ]
  },
  {
   "cell_type": "code",
   "execution_count": 10,
   "id": "46cafd66-0ae8-437e-bc89-66e61ec8bed0",
   "metadata": {},
   "outputs": [],
   "source": [
    "\n",
    "for lag in range(1, 4):  # Lag 1, 2, 3\n",
    "    df[f'CO_lag_{lag}'] = df['CO'].shift(lag)"
   ]
  },
  {
   "cell_type": "code",
   "execution_count": 11,
   "id": "7c7cdf1e-1cc3-455f-b60c-74440791c5d8",
   "metadata": {},
   "outputs": [],
   "source": [
    "df['CO_roll_mean_3'] = df['CO'].rolling(window=3).mean()\n",
    "df['CO_roll_std_3'] = df['CO'].rolling(window=3).std()"
   ]
  },
  {
   "cell_type": "code",
   "execution_count": 12,
   "id": "a545cb62-fe0d-45a0-a712-d5acbcb43aa3",
   "metadata": {},
   "outputs": [],
   "source": [
    "# Extract hour and minute\n",
    "df['hour'] = df['TS'].dt.hour\n",
    "df['minute'] = df['TS'].dt.minute\n",
    "\n",
    "# Cyclical encoding\n",
    "df['hour_sin'] = np.sin(2 * np.pi * df['hour'] / 24)\n",
    "df['hour_cos'] = np.cos(2 * np.pi * df['hour'] / 24)\n",
    "df['minute_sin'] = np.sin(2 * np.pi * df['minute'] / 60)\n",
    "df['minute_cos'] = np.cos(2 * np.pi * df['minute'] / 60)\n"
   ]
  },
  {
   "cell_type": "code",
   "execution_count": 13,
   "id": "27bb3f0c-ab4b-4a0e-bb1e-78adc598a55d",
   "metadata": {},
   "outputs": [],
   "source": [
    "df = df.dropna().reset_index(drop=True)"
   ]
  },
  {
   "cell_type": "code",
   "execution_count": 14,
   "id": "f05ed115-934d-4e08-8cf5-649a8376334b",
   "metadata": {},
   "outputs": [
    {
     "data": {
      "text/html": [
       "<div>\n",
       "<style scoped>\n",
       "    .dataframe tbody tr th:only-of-type {\n",
       "        vertical-align: middle;\n",
       "    }\n",
       "\n",
       "    .dataframe tbody tr th {\n",
       "        vertical-align: top;\n",
       "    }\n",
       "\n",
       "    .dataframe thead th {\n",
       "        text-align: right;\n",
       "    }\n",
       "</style>\n",
       "<table border=\"1\" class=\"dataframe\">\n",
       "  <thead>\n",
       "    <tr style=\"text-align: right;\">\n",
       "      <th></th>\n",
       "      <th>TS</th>\n",
       "      <th>CO</th>\n",
       "      <th>CO_lag_1</th>\n",
       "      <th>CO_lag_2</th>\n",
       "      <th>CO_lag_3</th>\n",
       "      <th>CO_roll_mean_3</th>\n",
       "      <th>CO_roll_std_3</th>\n",
       "      <th>hour</th>\n",
       "      <th>minute</th>\n",
       "      <th>hour_sin</th>\n",
       "      <th>hour_cos</th>\n",
       "      <th>minute_sin</th>\n",
       "      <th>minute_cos</th>\n",
       "    </tr>\n",
       "  </thead>\n",
       "  <tbody>\n",
       "    <tr>\n",
       "      <th>0</th>\n",
       "      <td>2024-01-01 00:30:00</td>\n",
       "      <td>4.4</td>\n",
       "      <td>5.0</td>\n",
       "      <td>2.8</td>\n",
       "      <td>5.0</td>\n",
       "      <td>4.066667</td>\n",
       "      <td>1.137248</td>\n",
       "      <td>0</td>\n",
       "      <td>30</td>\n",
       "      <td>0.000000</td>\n",
       "      <td>1.000000</td>\n",
       "      <td>5.665539e-16</td>\n",
       "      <td>-1.0</td>\n",
       "    </tr>\n",
       "    <tr>\n",
       "      <th>1</th>\n",
       "      <td>2024-01-01 00:40:00</td>\n",
       "      <td>5.0</td>\n",
       "      <td>4.4</td>\n",
       "      <td>5.0</td>\n",
       "      <td>2.8</td>\n",
       "      <td>4.800000</td>\n",
       "      <td>0.346410</td>\n",
       "      <td>0</td>\n",
       "      <td>40</td>\n",
       "      <td>0.000000</td>\n",
       "      <td>1.000000</td>\n",
       "      <td>-8.660254e-01</td>\n",
       "      <td>-0.5</td>\n",
       "    </tr>\n",
       "    <tr>\n",
       "      <th>2</th>\n",
       "      <td>2024-01-01 00:50:00</td>\n",
       "      <td>4.4</td>\n",
       "      <td>5.0</td>\n",
       "      <td>4.4</td>\n",
       "      <td>5.0</td>\n",
       "      <td>4.600000</td>\n",
       "      <td>0.346410</td>\n",
       "      <td>0</td>\n",
       "      <td>50</td>\n",
       "      <td>0.000000</td>\n",
       "      <td>1.000000</td>\n",
       "      <td>-8.660254e-01</td>\n",
       "      <td>0.5</td>\n",
       "    </tr>\n",
       "    <tr>\n",
       "      <th>3</th>\n",
       "      <td>2024-01-01 01:00:00</td>\n",
       "      <td>5.0</td>\n",
       "      <td>4.4</td>\n",
       "      <td>5.0</td>\n",
       "      <td>4.4</td>\n",
       "      <td>4.800000</td>\n",
       "      <td>0.346410</td>\n",
       "      <td>1</td>\n",
       "      <td>0</td>\n",
       "      <td>0.258819</td>\n",
       "      <td>0.965926</td>\n",
       "      <td>0.000000e+00</td>\n",
       "      <td>1.0</td>\n",
       "    </tr>\n",
       "    <tr>\n",
       "      <th>4</th>\n",
       "      <td>2024-01-01 01:10:00</td>\n",
       "      <td>2.9</td>\n",
       "      <td>5.0</td>\n",
       "      <td>4.4</td>\n",
       "      <td>5.0</td>\n",
       "      <td>4.100000</td>\n",
       "      <td>1.081665</td>\n",
       "      <td>1</td>\n",
       "      <td>10</td>\n",
       "      <td>0.258819</td>\n",
       "      <td>0.965926</td>\n",
       "      <td>8.660254e-01</td>\n",
       "      <td>0.5</td>\n",
       "    </tr>\n",
       "  </tbody>\n",
       "</table>\n",
       "</div>"
      ],
      "text/plain": [
       "                   TS   CO  CO_lag_1  CO_lag_2  CO_lag_3  CO_roll_mean_3  \\\n",
       "0 2024-01-01 00:30:00  4.4       5.0       2.8       5.0        4.066667   \n",
       "1 2024-01-01 00:40:00  5.0       4.4       5.0       2.8        4.800000   \n",
       "2 2024-01-01 00:50:00  4.4       5.0       4.4       5.0        4.600000   \n",
       "3 2024-01-01 01:00:00  5.0       4.4       5.0       4.4        4.800000   \n",
       "4 2024-01-01 01:10:00  2.9       5.0       4.4       5.0        4.100000   \n",
       "\n",
       "   CO_roll_std_3  hour  minute  hour_sin  hour_cos    minute_sin  minute_cos  \n",
       "0       1.137248     0      30  0.000000  1.000000  5.665539e-16        -1.0  \n",
       "1       0.346410     0      40  0.000000  1.000000 -8.660254e-01        -0.5  \n",
       "2       0.346410     0      50  0.000000  1.000000 -8.660254e-01         0.5  \n",
       "3       0.346410     1       0  0.258819  0.965926  0.000000e+00         1.0  \n",
       "4       1.081665     1      10  0.258819  0.965926  8.660254e-01         0.5  "
      ]
     },
     "execution_count": 14,
     "metadata": {},
     "output_type": "execute_result"
    }
   ],
   "source": [
    "df.head()"
   ]
  },
  {
   "cell_type": "code",
   "execution_count": 15,
   "id": "e7080d2b-48ea-4d49-878c-632024e04a8c",
   "metadata": {},
   "outputs": [],
   "source": [
    "# Define feature columns\n",
    "feature_cols = [\n",
    "    'CO_lag_1', 'CO_lag_2', 'CO_lag_3',\n",
    "    'CO_roll_mean_3', 'CO_roll_std_3',\n",
    "    'hour_sin', 'hour_cos', 'minute_sin', 'minute_cos'\n",
    "]\n",
    "\n",
    "X = df[feature_cols]\n",
    "y = df['CO']\n",
    "\n"
   ]
  },
  {
   "cell_type": "code",
   "execution_count": 16,
   "id": "bfbfe980-d4da-4f10-a6ca-d88c055d1570",
   "metadata": {},
   "outputs": [],
   "source": [
    "import mlflow\n",
    "\n",
    "mlflow.set_tracking_uri(\"https://legendary-dollop-7vr49x7r7v9pcxwrw-5000.app.github.dev/\")\n"
   ]
  },
  {
   "cell_type": "code",
   "execution_count": 17,
   "id": "7b320588-b0ce-49e3-9ff9-9aee3c223a77",
   "metadata": {},
   "outputs": [
    {
     "name": "stderr",
     "output_type": "stream",
     "text": [
      "2024/11/23 10:36:33 INFO mlflow.tracking.fluent: Experiment with name 'Time_Series_CO_Prediction' does not exist. Creating a new experiment.\n"
     ]
    },
    {
     "data": {
      "text/plain": [
       "<Experiment: artifact_location='mlflow-artifacts:/artifacts/2', creation_time=1732358193397, experiment_id='2', last_update_time=1732358193397, lifecycle_stage='active', name='Time_Series_CO_Prediction', tags={}>"
      ]
     },
     "execution_count": 17,
     "metadata": {},
     "output_type": "execute_result"
    }
   ],
   "source": [
    "mlflow.set_experiment(\"Time_Series_CO_Prediction\")\n"
   ]
  },
  {
   "cell_type": "code",
   "execution_count": 22,
   "id": "00344500-590e-4366-96b5-d56365d48db8",
   "metadata": {},
   "outputs": [
    {
     "name": "stderr",
     "output_type": "stream",
     "text": [
      "2024/11/23 10:38:21 WARNING mlflow.utils.git_utils: Failed to import Git (the Git executable is probably not on your PATH), so Git SHA is not available. Error: Failed to initialize: Bad git executable.\n",
      "The git executable must be specified in one of the following ways:\n",
      "    - be included in your $PATH\n",
      "    - be set via $GIT_PYTHON_GIT_EXECUTABLE\n",
      "    - explicitly set via git.refresh(<full-path-to-git-executable>)\n",
      "\n",
      "All git commands will error until this is rectified.\n",
      "\n",
      "This initial message can be silenced or aggravated in the future by setting the\n",
      "$GIT_PYTHON_REFRESH environment variable. Use one of the following values:\n",
      "    - quiet|q|silence|s|silent|none|n|0: for no message or exception\n",
      "    - warn|w|warning|log|l|1: for a warning message (logging level CRITICAL, displayed by default)\n",
      "    - error|e|exception|raise|r|2: for a raised exception\n",
      "\n",
      "Example:\n",
      "    export GIT_PYTHON_REFRESH=quiet\n",
      "\n",
      "2024/11/23 10:38:26 WARNING mlflow.models.model: Model logged without a signature and input example. Please set `input_example` parameter when logging the model to auto infer the model signature.\n"
     ]
    },
    {
     "name": "stdout",
     "output_type": "stream",
     "text": [
      "Run ID: b49c98dd8b5147f1a2efc8602930faa0\n",
      "Logged MAE: 0.02, RMSE: 0.05\n",
      "🏃 View run RandomForest_Regressor_Run at: https://legendary-dollop-7vr49x7r7v9pcxwrw-5000.app.github.dev/#/experiments/2/runs/b49c98dd8b5147f1a2efc8602930faa0\n",
      "🧪 View experiment at: https://legendary-dollop-7vr49x7r7v9pcxwrw-5000.app.github.dev/#/experiments/2\n"
     ]
    }
   ],
   "source": [
    "tscv = TimeSeriesSplit(n_splits=3)\n",
    "\n",
    "# Start MLflow Run\n",
    "with mlflow.start_run(run_name=\"RandomForest_Regressor_Run\") as run:\n",
    "    # Define and Train the Model\n",
    "    rf = RandomForestRegressor(n_estimators=200, max_depth=None, min_samples_split=2, random_state=42)\n",
    "    rf.fit(X, y)\n",
    "\n",
    "    # Predictions (Using the entire dataset for simplicity; consider using a separate test set)\n",
    "    predictions = rf.predict(X)\n",
    "\n",
    "    # Calculate Metrics\n",
    "    mae = mean_absolute_error(y, predictions)\n",
    "    rmse = np.sqrt(mean_squared_error(y, predictions))\n",
    "\n",
    "    # Log Parameters\n",
    "    mlflow.log_param(\"model\", \"RandomForestRegressor\")\n",
    "    mlflow.log_param(\"n_estimators\", 200)\n",
    "    mlflow.log_param(\"max_depth\", None)\n",
    "    mlflow.log_param(\"min_samples_split\", 2)\n",
    "    mlflow.log_param(\"random_state\", 42)\n",
    "\n",
    "    # Log Metrics\n",
    "    mlflow.log_metric(\"MAE\", mae)\n",
    "    mlflow.log_metric(\"RMSE\", rmse)\n",
    "\n",
    "    # Log the Model\n",
    "    mlflow.sklearn.log_model(rf, \"model\")\n",
    "\n",
    "    print(f\"Run ID: {run.info.run_id}\")\n",
    "    print(f\"Logged MAE: {mae:.2f}, RMSE: {rmse:.2f}\")"
   ]
  },
  {
   "cell_type": "code",
   "execution_count": null,
   "id": "0438ec0c-a37c-4d67-bd56-3be44326b7b0",
   "metadata": {},
   "outputs": [],
   "source": [
    "# Get the Run ID from the previous step\n",
    "run_id = run.info.run_id\n",
    "\n",
    "# Register the model\n",
    "model_name = \"Time_Series_CO_Model\"\n",
    "result = mlflow.register_model(\n",
    "    f\"runs:/{run_id}/model\",\n",
    "    model_name\n",
    ")\n",
    "\n",
    "print(f\"Registered Model: {result.name}, Version: {result.version}\")\n"
   ]
  },
  {
   "cell_type": "code",
   "execution_count": null,
   "id": "3846b050-b239-4927-93c0-2cc608704b6a",
   "metadata": {},
   "outputs": [],
   "source": [
    "from mlflow.tracking import MlflowClient\n",
    "\n",
    "client = MlflowClient()\n",
    "\n",
    "# Transition the model to 'Staging'\n",
    "client.transition_model_version_stage(\n",
    "    name=model_name,\n",
    "    version=result.version,\n",
    "    stage=\"Staging\",\n",
    "    archive_existing_versions=True\n",
    ")\n",
    "\n",
    "print(f\"Model {model_name} version {result.version} transitioned to Staging.\")\n"
   ]
  },
  {
   "cell_type": "code",
   "execution_count": null,
   "id": "2726ee3a-2e7c-4c6e-9b80-cbd928a0c7b7",
   "metadata": {},
   "outputs": [],
   "source": [
    "import mlflow\n",
    "import mlflow.sklearn\n",
    "\n",
    "model_name = \"Time_Series_CO_Model\"\n",
    "model_stage = \"Staging\"\n",
    "\n",
    "# Load the model from the registry\n",
    "model = mlflow.sklearn.load_model(\n",
    "    model_uri=f\"models:/{model_name}/{model_stage}\"\n",
    ")\n",
    "\n",
    "print(\"Model loaded successfully from MLflow Model Registry.\")\n"
   ]
  },
  {
   "cell_type": "code",
   "execution_count": null,
   "id": "590d565c-2971-4b72-8b2f-667689765153",
   "metadata": {},
   "outputs": [],
   "source": []
  },
  {
   "cell_type": "code",
   "execution_count": null,
   "id": "588c3aca-85f4-4447-bf36-c32e1bc3fbff",
   "metadata": {},
   "outputs": [],
   "source": [
    "\n",
    "ts= [1672531200000, 1672531260000, 1672531320000, 1672531380000 ,  1672531440000 ]\n",
    "df=pd.DataFrame(column='TS', value=ts)"
   ]
  },
  {
   "cell_type": "code",
   "execution_count": null,
   "id": "8a44b9ea-9241-4ac6-91ee-136ce8bafbcc",
   "metadata": {},
   "outputs": [],
   "source": []
  },
  {
   "cell_type": "code",
   "execution_count": null,
   "id": "d7d88abc-2059-4f3c-87c9-c97f919e7ce7",
   "metadata": {},
   "outputs": [],
   "source": [
    "# Convert 'TS' from milliseconds to datetime\n",
    "df['TS'] = pd.to_datetime(df['TS'], unit='ms')\n",
    "\n",
    "# Sort the dataframe by timestamp\n",
    "df = df.sort_values('TS').reset_index(drop=True)\n",
    "\n",
    "print(\"\\nData after converting TS to datetime:\")\n",
    "print(df.head())\n"
   ]
  }
 ],
 "metadata": {
  "kernelspec": {
   "display_name": "Python 3 (ipykernel)",
   "language": "python",
   "name": "python3"
  },
  "language_info": {
   "codemirror_mode": {
    "name": "ipython",
    "version": 3
   },
   "file_extension": ".py",
   "mimetype": "text/x-python",
   "name": "python",
   "nbconvert_exporter": "python",
   "pygments_lexer": "ipython3",
   "version": "3.11.10"
  }
 },
 "nbformat": 4,
 "nbformat_minor": 5
}
